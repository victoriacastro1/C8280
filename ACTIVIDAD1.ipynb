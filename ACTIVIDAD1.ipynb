{
  "nbformat": 4,
  "nbformat_minor": 0,
  "metadata": {
    "colab": {
      "provenance": [],
      "authorship_tag": "ABX9TyN/fMyPamI0kVXAA5CIg4h8",
      "include_colab_link": true
    },
    "kernelspec": {
      "name": "python3",
      "display_name": "Python 3"
    },
    "language_info": {
      "name": "python"
    }
  },
  "cells": [
    {
      "cell_type": "markdown",
      "metadata": {
        "id": "view-in-github",
        "colab_type": "text"
      },
      "source": [
        "<a href=\"https://colab.research.google.com/github/victoriacastro1/C8280/blob/main/ACTIVIDAD1.ipynb\" target=\"_parent\"><img src=\"https://colab.research.google.com/assets/colab-badge.svg\" alt=\"Open In Colab\"/></a>"
      ]
    },
    {
      "cell_type": "code",
      "execution_count": null,
      "metadata": {
        "id": "B5HB-Typw-l-",
        "colab": {
          "base_uri": "https://localhost:8080/"
        },
        "outputId": "93a98c62-cdd9-4b19-ef90-8dd6c07dae06"
      },
      "outputs": [
        {
          "output_type": "stream",
          "name": "stdout",
          "text": [
            "order_id\tquantity\titem_name\tchoice_description\titem_price\n",
            "1\t1\tChips and Fresh Tomato Salsa\tNULL\t$2.39 \n",
            "1\t1\tIzze\t[Clementine]\t$3.39 \n",
            "1\t1\tNantucket Nectar\t[Apple]\t$3.39 \n",
            "1\t1\tChips and Tomatillo-Green Chili Salsa\tNULL\t$2.39 \n",
            "2\t2\tChicken Bowl\t[Tomatillo-Red Chili Salsa (Hot), [Black Beans, Rice, Cheese, Sour Cream]]\t$16.98 \n",
            "3\t1\tChicken Bowl\t[Fresh Tomato Salsa (Mild), [Rice, Cheese, Sour Cream, Guacamole, Lettuce]]\t$10.98 \n",
            "3\t1\tSide of Chips\tNULL\t$1.69 \n",
            "4\t1\tSteak Burrito\t[Tomatillo Red Chili Salsa, [Fajita Vegetables, Black Beans, Pinto Beans, Cheese, Sour Cream, Guacamole, Lettuce]]\t$11.75 \n",
            "4\t1\tSteak Soft Tacos\t[Tomatillo Green Chili Salsa, [Pinto Beans, Cheese, Sour Cream, Lettuce]]\t$9.25 \n"
          ]
        }
      ],
      "source": [
        "!head data.tsv"
      ]
    },
    {
      "cell_type": "code",
      "source": [
        "!tail data.tsv #¿Cuántos pedidos parece haber?"
      ],
      "metadata": {
        "colab": {
          "base_uri": "https://localhost:8080/"
        },
        "id": "Q-7sBpVy2lls",
        "outputId": "5bc7d1e5-9a84-4fdf-e551-13cc4f094a1e"
      },
      "execution_count": null,
      "outputs": [
        {
          "output_type": "stream",
          "name": "stdout",
          "text": [
            "1831\t1\tChips\tNULL\t$2.15 \n",
            "1831\t1\tBottled Water\tNULL\t$1.50 \n",
            "1832\t1\tChicken Soft Tacos\t[Fresh Tomato Salsa, [Rice, Cheese, Sour Cream]]\t$8.75 \n",
            "1832\t1\tChips and Guacamole\tNULL\t$4.45 \n",
            "1833\t1\tSteak Burrito\t[Fresh Tomato Salsa, [Rice, Black Beans, Sour Cream, Cheese, Lettuce, Guacamole]]\t$11.75 \n",
            "1833\t1\tSteak Burrito\t[Fresh Tomato Salsa, [Rice, Sour Cream, Cheese, Lettuce, Guacamole]]\t$11.75 \n",
            "1834\t1\tChicken Salad Bowl\t[Fresh Tomato Salsa, [Fajita Vegetables, Pinto Beans, Guacamole, Lettuce]]\t$11.25 \n",
            "1834\t1\tChicken Salad Bowl\t[Fresh Tomato Salsa, [Fajita Vegetables, Lettuce]]\t$8.75 \n",
            "1834\t1\tChicken Salad Bowl\t[Fresh Tomato Salsa, [Fajita Vegetables, Pinto Beans, Lettuce]]\t$8.75 \n",
            "\n"
          ]
        }
      ]
    },
    {
      "cell_type": "code",
      "source": [
        "!wc -l data.tsv  #¿Cuántas líneas hay en este archivo?"
      ],
      "metadata": {
        "colab": {
          "base_uri": "https://localhost:8080/"
        },
        "id": "jurfgPmk34w4",
        "outputId": "08f2c25f-d236-4265-d41c-d08537ed73d8"
      },
      "execution_count": null,
      "outputs": [
        {
          "output_type": "stream",
          "name": "stdout",
          "text": [
            "4624 data.tsv\n"
          ]
        }
      ]
    },
    {
      "cell_type": "markdown",
      "source": [
        "¿Qué burrito es más popular, steak o chicken?"
      ],
      "metadata": {
        "id": "xbOvJnQu5Jsv"
      }
    },
    {
      "cell_type": "code",
      "source": [
        "!grep -i 'chicken burrito' data.tsv | wc -l ; grep -o -i 'steak burrito' data.tsv | wc -l"
      ],
      "metadata": {
        "colab": {
          "base_uri": "https://localhost:8080/"
        },
        "id": "o2PqaLWF4MJ8",
        "outputId": "4ebb75e6-ebb1-40c7-b8b5-990146dd4748"
      },
      "execution_count": null,
      "outputs": [
        {
          "output_type": "stream",
          "name": "stdout",
          "text": [
            "553\n",
            "368\n"
          ]
        }
      ]
    },
    {
      "cell_type": "markdown",
      "source": [
        "¿Los burritos de pollo suelen tener frijoles negros o frijoles pintos?\n"
      ],
      "metadata": {
        "id": "N-6XLhLL7e1x"
      }
    },
    {
      "cell_type": "code",
      "source": [
        "!grep -o -i 'black beans' data.tsv | wc -l; grep -o -i 'pinto beans' data.tsv | wc -l"
      ],
      "metadata": {
        "colab": {
          "base_uri": "https://localhost:8080/"
        },
        "id": "Nno1O4VD6ym_",
        "outputId": "31c109c9-3cd8-427d-d880-8d9e76b4cef5"
      },
      "execution_count": null,
      "outputs": [
        {
          "output_type": "stream",
          "name": "stdout",
          "text": [
            "1345\n",
            "582\n"
          ]
        }
      ]
    },
    {
      "cell_type": "markdown",
      "source": [
        "¿Los burritos de pollo suelen tener frijoles negros o frijoles pintos?"
      ],
      "metadata": {
        "id": "sTJ5I5QG8llr"
      }
    },
    {
      "cell_type": "code",
      "source": [
        "!grep -i 'chicken burrito' data.tsv | grep -o -i 'black beans' | wc -l; grep -i 'chicken burrito' data.tsv | grep -o -i 'pinto beans' | wc -l"
      ],
      "metadata": {
        "colab": {
          "base_uri": "https://localhost:8080/"
        },
        "id": "DWn51hc68WZ9",
        "outputId": "c715494a-dbad-4d32-d4a9-f12b3b6c5522"
      },
      "execution_count": null,
      "outputs": [
        {
          "output_type": "stream",
          "name": "stdout",
          "text": [
            "282\n",
            "105\n"
          ]
        }
      ]
    }
  ]
}